{
 "cells": [
  {
   "cell_type": "code",
   "execution_count": 1,
   "id": "1e4e927a-7b20-4a58-8aa8-12e800f43a7e",
   "metadata": {
    "tags": []
   },
   "outputs": [],
   "source": [
    "import numpy as np\n",
    "import pandas as pd\n",
    "import matplotlib.pyplot as plt"
   ]
  },
  {
   "cell_type": "markdown",
   "id": "d54ef572-5bbe-42b9-a2d7-5b1f19dff1e7",
   "metadata": {},
   "source": [
    "1.  SETTING UP THE INPUT FILE"
   ]
  },
  {
   "cell_type": "code",
   "execution_count": 2,
   "id": "1095dc60-31fc-4b40-8102-a98f5eba643d",
   "metadata": {
    "tags": []
   },
   "outputs": [],
   "source": [
    "# Loading the data file\n",
    "pd.options.display.max_rows=2000\n",
    "raw_df=pd.read_csv('Sport car price.csv' )"
   ]
  },
  {
   "cell_type": "code",
   "execution_count": 3,
   "id": "fba01903-7704-4c4a-9ef4-3857c77c1906",
   "metadata": {
    "tags": []
   },
   "outputs": [
    {
     "name": "stdout",
     "output_type": "stream",
     "text": [
      "DataFrame size before droping duplicates: (1007, 8)\n",
      "DataFrame size after droping duplicates: (719, 8)\n",
      "Duplicates percentage : 0.29%\n"
     ]
    },
    {
     "data": {
      "text/html": [
       "<div>\n",
       "<style scoped>\n",
       "    .dataframe tbody tr th:only-of-type {\n",
       "        vertical-align: middle;\n",
       "    }\n",
       "\n",
       "    .dataframe tbody tr th {\n",
       "        vertical-align: top;\n",
       "    }\n",
       "\n",
       "    .dataframe thead th {\n",
       "        text-align: right;\n",
       "    }\n",
       "</style>\n",
       "<table border=\"1\" class=\"dataframe\">\n",
       "  <thead>\n",
       "    <tr style=\"text-align: right;\">\n",
       "      <th></th>\n",
       "      <th>Car Make</th>\n",
       "      <th>Car Model</th>\n",
       "      <th>Year</th>\n",
       "      <th>Engine Size (L)</th>\n",
       "      <th>Horsepower</th>\n",
       "      <th>Torque (lb-ft)</th>\n",
       "      <th>0-60 MPH Time (seconds)</th>\n",
       "      <th>Price (in USD)</th>\n",
       "    </tr>\n",
       "  </thead>\n",
       "  <tbody>\n",
       "    <tr>\n",
       "      <th>0</th>\n",
       "      <td>Porsche</td>\n",
       "      <td>911</td>\n",
       "      <td>2022</td>\n",
       "      <td>3</td>\n",
       "      <td>379</td>\n",
       "      <td>331</td>\n",
       "      <td>4</td>\n",
       "      <td>101,200</td>\n",
       "    </tr>\n",
       "    <tr>\n",
       "      <th>1</th>\n",
       "      <td>Lamborghini</td>\n",
       "      <td>Huracan</td>\n",
       "      <td>2021</td>\n",
       "      <td>5.2</td>\n",
       "      <td>630</td>\n",
       "      <td>443</td>\n",
       "      <td>2.8</td>\n",
       "      <td>274,390</td>\n",
       "    </tr>\n",
       "    <tr>\n",
       "      <th>2</th>\n",
       "      <td>Ferrari</td>\n",
       "      <td>488 GTB</td>\n",
       "      <td>2022</td>\n",
       "      <td>3.9</td>\n",
       "      <td>661</td>\n",
       "      <td>561</td>\n",
       "      <td>3</td>\n",
       "      <td>333,750</td>\n",
       "    </tr>\n",
       "    <tr>\n",
       "      <th>3</th>\n",
       "      <td>Audi</td>\n",
       "      <td>R8</td>\n",
       "      <td>2022</td>\n",
       "      <td>5.2</td>\n",
       "      <td>562</td>\n",
       "      <td>406</td>\n",
       "      <td>3.2</td>\n",
       "      <td>142,700</td>\n",
       "    </tr>\n",
       "    <tr>\n",
       "      <th>4</th>\n",
       "      <td>McLaren</td>\n",
       "      <td>720S</td>\n",
       "      <td>2021</td>\n",
       "      <td>4</td>\n",
       "      <td>710</td>\n",
       "      <td>568</td>\n",
       "      <td>2.7</td>\n",
       "      <td>298,000</td>\n",
       "    </tr>\n",
       "  </tbody>\n",
       "</table>\n",
       "</div>"
      ],
      "text/plain": [
       "      Car Make Car Model  Year Engine Size (L) Horsepower Torque (lb-ft)  \\\n",
       "0      Porsche       911  2022               3        379            331   \n",
       "1  Lamborghini   Huracan  2021             5.2        630            443   \n",
       "2      Ferrari   488 GTB  2022             3.9        661            561   \n",
       "3         Audi        R8  2022             5.2        562            406   \n",
       "4      McLaren      720S  2021               4        710            568   \n",
       "\n",
       "  0-60 MPH Time (seconds) Price (in USD)  \n",
       "0                       4        101,200  \n",
       "1                     2.8        274,390  \n",
       "2                       3        333,750  \n",
       "3                     3.2        142,700  \n",
       "4                     2.7        298,000  "
      ]
     },
     "execution_count": 3,
     "metadata": {},
     "output_type": "execute_result"
    }
   ],
   "source": [
    "# Droping the duplicated row as this analysis is for the prices of different sports cars & identifying trends in the market.\n",
    "print(\"DataFrame size before droping duplicates:\",raw_df.shape)\n",
    "df=raw_df.drop_duplicates().copy()\n",
    "df.reset_index(drop=True)\n",
    "print(\"DataFrame size after droping duplicates:\",df.shape)\n",
    "print('Duplicates percentage : {:.2f}%'.format((raw_df.shape[0]-df.shape[0])/raw_df.shape[0]))\n",
    "df.head()"
   ]
  },
  {
   "cell_type": "markdown",
   "id": "398d6626-2584-4fc9-8214-b6b4ce0f1cbf",
   "metadata": {
    "tags": []
   },
   "source": [
    "2. HANDLING THE NULL VALUES"
   ]
  },
  {
   "cell_type": "code",
   "execution_count": 4,
   "id": "d54feb7c-9d4c-4a77-bdd2-c590700a1a3e",
   "metadata": {
    "tags": []
   },
   "outputs": [
    {
     "name": "stdout",
     "output_type": "stream",
     "text": [
      "<class 'pandas.core.frame.DataFrame'>\n",
      "Int64Index: 719 entries, 0 to 1006\n",
      "Data columns (total 8 columns):\n",
      " #   Column                   Non-Null Count  Dtype \n",
      "---  ------                   --------------  ----- \n",
      " 0   Car Make                 719 non-null    object\n",
      " 1   Car Model                719 non-null    object\n",
      " 2   Year                     719 non-null    int64 \n",
      " 3   Engine Size (L)          709 non-null    object\n",
      " 4   Horsepower               719 non-null    object\n",
      " 5   Torque (lb-ft)           716 non-null    object\n",
      " 6   0-60 MPH Time (seconds)  719 non-null    object\n",
      " 7   Price (in USD)           719 non-null    object\n",
      "dtypes: int64(1), object(7)\n",
      "memory usage: 50.6+ KB\n"
     ]
    }
   ],
   "source": [
    "df.info()"
   ]
  },
  {
   "cell_type": "code",
   "execution_count": 5,
   "id": "d5c92091-9b2c-4a20-a7b4-c449734694ec",
   "metadata": {
    "tags": []
   },
   "outputs": [
    {
     "data": {
      "text/html": [
       "<div>\n",
       "<style scoped>\n",
       "    .dataframe tbody tr th:only-of-type {\n",
       "        vertical-align: middle;\n",
       "    }\n",
       "\n",
       "    .dataframe tbody tr th {\n",
       "        vertical-align: top;\n",
       "    }\n",
       "\n",
       "    .dataframe thead th {\n",
       "        text-align: right;\n",
       "    }\n",
       "</style>\n",
       "<table border=\"1\" class=\"dataframe\">\n",
       "  <thead>\n",
       "    <tr style=\"text-align: right;\">\n",
       "      <th></th>\n",
       "      <th>Car Make</th>\n",
       "      <th>Car Model</th>\n",
       "      <th>Year</th>\n",
       "      <th>Engine Size (L)</th>\n",
       "      <th>Horsepower</th>\n",
       "      <th>Torque (lb-ft)</th>\n",
       "      <th>0-60 MPH Time (seconds)</th>\n",
       "      <th>Price (in USD)</th>\n",
       "    </tr>\n",
       "  </thead>\n",
       "  <tbody>\n",
       "    <tr>\n",
       "      <th>642</th>\n",
       "      <td>Tesla</td>\n",
       "      <td>Model S Plaid</td>\n",
       "      <td>2021</td>\n",
       "      <td>Electric</td>\n",
       "      <td>1020</td>\n",
       "      <td>NaN</td>\n",
       "      <td>1.9</td>\n",
       "      <td>139,990</td>\n",
       "    </tr>\n",
       "    <tr>\n",
       "      <th>878</th>\n",
       "      <td>Maserati</td>\n",
       "      <td>GranTurismo</td>\n",
       "      <td>2021</td>\n",
       "      <td>Electric</td>\n",
       "      <td>550</td>\n",
       "      <td>NaN</td>\n",
       "      <td>2.8</td>\n",
       "      <td>200,000</td>\n",
       "    </tr>\n",
       "    <tr>\n",
       "      <th>916</th>\n",
       "      <td>Tesla</td>\n",
       "      <td>Roadster</td>\n",
       "      <td>2022</td>\n",
       "      <td>NaN</td>\n",
       "      <td>10,000+</td>\n",
       "      <td>NaN</td>\n",
       "      <td>1.9</td>\n",
       "      <td>200,000</td>\n",
       "    </tr>\n",
       "  </tbody>\n",
       "</table>\n",
       "</div>"
      ],
      "text/plain": [
       "     Car Make      Car Model  Year Engine Size (L) Horsepower Torque (lb-ft)  \\\n",
       "642     Tesla  Model S Plaid  2021        Electric       1020            NaN   \n",
       "878  Maserati    GranTurismo  2021        Electric        550            NaN   \n",
       "916     Tesla       Roadster  2022             NaN    10,000+            NaN   \n",
       "\n",
       "    0-60 MPH Time (seconds) Price (in USD)  \n",
       "642                     1.9        139,990  \n",
       "878                     2.8        200,000  \n",
       "916                     1.9        200,000  "
      ]
     },
     "execution_count": 5,
     "metadata": {},
     "output_type": "execute_result"
    }
   ],
   "source": [
    "df[df['Torque (lb-ft)'].isna()]"
   ]
  },
  {
   "cell_type": "code",
   "execution_count": 6,
   "id": "59cb8f2a-cf59-432a-afd0-ff4e822c928a",
   "metadata": {
    "tags": []
   },
   "outputs": [],
   "source": [
    "#df[(df['Torque (lb-ft)'].notna())&(df['Car Model']=='Model S Plaid')]\n",
    "#df[(df['Torque (lb-ft)'].notna())&(df['Car Model']=='GranTurismo')]\n",
    "#df[(df['Torque (lb-ft)'].notna())&(df['Car Model']=='Roadster')]"
   ]
  },
  {
   "cell_type": "code",
   "execution_count": 7,
   "id": "fd2020f0-3039-4ed7-9426-45a7249fcb75",
   "metadata": {
    "tags": []
   },
   "outputs": [],
   "source": [
    "# IN Torque (lb-ft) COLUMN WE CAN SEE 'N/A' AND '-' SYMBOL WHICH IMPLIES NULL VALUE\n",
    "\n",
    "# N/A IS PRESENT IN 3 ROWS, REPLACING THE N/A WITH MEAN VALUE OF THE RESPECTIVE CAR-MODEL\n",
    "\n",
    "#replacing the null values & (-) with most repeated value of the respective Car Model's\n",
    "\n",
    "df.loc[642,'Torque (lb-ft)']='1050'\n",
    "df.loc[878,'Torque (lb-ft)']='384'\n",
    "df.loc[916,'Torque (lb-ft)']='737'\n",
    "#(-) value row index is 335\n",
    "df.loc[335,'Torque (lb-ft)']='737'"
   ]
  },
  {
   "cell_type": "code",
   "execution_count": 8,
   "id": "0819d09d-1f67-4e83-aee8-89d801a0de4e",
   "metadata": {},
   "outputs": [
    {
     "data": {
      "text/html": [
       "<div>\n",
       "<style scoped>\n",
       "    .dataframe tbody tr th:only-of-type {\n",
       "        vertical-align: middle;\n",
       "    }\n",
       "\n",
       "    .dataframe tbody tr th {\n",
       "        vertical-align: top;\n",
       "    }\n",
       "\n",
       "    .dataframe thead th {\n",
       "        text-align: right;\n",
       "    }\n",
       "</style>\n",
       "<table border=\"1\" class=\"dataframe\">\n",
       "  <thead>\n",
       "    <tr style=\"text-align: right;\">\n",
       "      <th></th>\n",
       "      <th>Car Make</th>\n",
       "      <th>Car Model</th>\n",
       "      <th>Year</th>\n",
       "      <th>Engine Size (L)</th>\n",
       "      <th>Horsepower</th>\n",
       "      <th>Torque (lb-ft)</th>\n",
       "      <th>0-60 MPH Time (seconds)</th>\n",
       "      <th>Price (in USD)</th>\n",
       "    </tr>\n",
       "  </thead>\n",
       "  <tbody>\n",
       "    <tr>\n",
       "      <th>168</th>\n",
       "      <td>Rimac</td>\n",
       "      <td>C_Two</td>\n",
       "      <td>2022</td>\n",
       "      <td>NaN</td>\n",
       "      <td>1914</td>\n",
       "      <td>1696</td>\n",
       "      <td>1.9</td>\n",
       "      <td>2,400,000</td>\n",
       "    </tr>\n",
       "    <tr>\n",
       "      <th>171</th>\n",
       "      <td>Tesla</td>\n",
       "      <td>Model S Plaid</td>\n",
       "      <td>2021</td>\n",
       "      <td>NaN</td>\n",
       "      <td>1020</td>\n",
       "      <td>1050</td>\n",
       "      <td>1.98</td>\n",
       "      <td>131,190</td>\n",
       "    </tr>\n",
       "    <tr>\n",
       "      <th>222</th>\n",
       "      <td>Porsche</td>\n",
       "      <td>Taycan Turbo S</td>\n",
       "      <td>2021</td>\n",
       "      <td>NaN</td>\n",
       "      <td>750</td>\n",
       "      <td>774</td>\n",
       "      <td>2.6</td>\n",
       "      <td>185,000</td>\n",
       "    </tr>\n",
       "    <tr>\n",
       "      <th>247</th>\n",
       "      <td>Tesla</td>\n",
       "      <td>Model S Plaid</td>\n",
       "      <td>2022</td>\n",
       "      <td>NaN</td>\n",
       "      <td>1020</td>\n",
       "      <td>1050</td>\n",
       "      <td>1.9</td>\n",
       "      <td>131,190</td>\n",
       "    </tr>\n",
       "    <tr>\n",
       "      <th>387</th>\n",
       "      <td>Rimac</td>\n",
       "      <td>C_Two</td>\n",
       "      <td>2022</td>\n",
       "      <td>NaN</td>\n",
       "      <td>1888</td>\n",
       "      <td>1696</td>\n",
       "      <td>1.8</td>\n",
       "      <td>2,400,000</td>\n",
       "    </tr>\n",
       "    <tr>\n",
       "      <th>389</th>\n",
       "      <td>Tesla</td>\n",
       "      <td>Roadster</td>\n",
       "      <td>2022</td>\n",
       "      <td>NaN</td>\n",
       "      <td>10000+</td>\n",
       "      <td>0</td>\n",
       "      <td>1.9</td>\n",
       "      <td>200,000</td>\n",
       "    </tr>\n",
       "    <tr>\n",
       "      <th>686</th>\n",
       "      <td>Rimac</td>\n",
       "      <td>C_Two</td>\n",
       "      <td>2022</td>\n",
       "      <td>NaN</td>\n",
       "      <td>1914</td>\n",
       "      <td>1696</td>\n",
       "      <td>1.85</td>\n",
       "      <td>2,400,000</td>\n",
       "    </tr>\n",
       "    <tr>\n",
       "      <th>697</th>\n",
       "      <td>Lotus</td>\n",
       "      <td>Evija</td>\n",
       "      <td>2022</td>\n",
       "      <td>NaN</td>\n",
       "      <td>1972</td>\n",
       "      <td>1254</td>\n",
       "      <td>2.5</td>\n",
       "      <td>2,700,000</td>\n",
       "    </tr>\n",
       "    <tr>\n",
       "      <th>752</th>\n",
       "      <td>Porsche</td>\n",
       "      <td>Taycan</td>\n",
       "      <td>2022</td>\n",
       "      <td>NaN</td>\n",
       "      <td>469</td>\n",
       "      <td>479</td>\n",
       "      <td>3.8</td>\n",
       "      <td>79,900</td>\n",
       "    </tr>\n",
       "    <tr>\n",
       "      <th>916</th>\n",
       "      <td>Tesla</td>\n",
       "      <td>Roadster</td>\n",
       "      <td>2022</td>\n",
       "      <td>NaN</td>\n",
       "      <td>10,000+</td>\n",
       "      <td>737</td>\n",
       "      <td>1.9</td>\n",
       "      <td>200,000</td>\n",
       "    </tr>\n",
       "  </tbody>\n",
       "</table>\n",
       "</div>"
      ],
      "text/plain": [
       "    Car Make       Car Model  Year Engine Size (L) Horsepower Torque (lb-ft)  \\\n",
       "168    Rimac           C_Two  2022             NaN       1914           1696   \n",
       "171    Tesla   Model S Plaid  2021             NaN       1020           1050   \n",
       "222  Porsche  Taycan Turbo S  2021             NaN        750            774   \n",
       "247    Tesla   Model S Plaid  2022             NaN       1020           1050   \n",
       "387    Rimac           C_Two  2022             NaN       1888           1696   \n",
       "389    Tesla        Roadster  2022             NaN     10000+              0   \n",
       "686    Rimac           C_Two  2022             NaN       1914           1696   \n",
       "697    Lotus           Evija  2022             NaN       1972           1254   \n",
       "752  Porsche          Taycan  2022             NaN        469            479   \n",
       "916    Tesla        Roadster  2022             NaN    10,000+            737   \n",
       "\n",
       "    0-60 MPH Time (seconds) Price (in USD)  \n",
       "168                     1.9      2,400,000  \n",
       "171                    1.98        131,190  \n",
       "222                     2.6        185,000  \n",
       "247                     1.9        131,190  \n",
       "387                     1.8      2,400,000  \n",
       "389                     1.9        200,000  \n",
       "686                    1.85      2,400,000  \n",
       "697                     2.5      2,700,000  \n",
       "752                     3.8         79,900  \n",
       "916                     1.9        200,000  "
      ]
     },
     "execution_count": 8,
     "metadata": {},
     "output_type": "execute_result"
    }
   ],
   "source": [
    "df[df['Engine Size (L)'].isna()]"
   ]
  },
  {
   "cell_type": "code",
   "execution_count": 9,
   "id": "a420d30a-fb33-48dc-8e01-11d3ad5de024",
   "metadata": {
    "tags": []
   },
   "outputs": [],
   "source": [
    "# FROM THE DATA SET WE CAN SEE CAR MODEL- Rimac,Tesla ARE ONLY MAKING ELECTRIC CARS, REPLACING NaN TO Electric\n",
    "\n",
    "df.loc[df[(df['Car Make']=='Rimac' )&( df['Engine Size (L)'].isna())].index,'Engine Size (L)']='Electric'\n",
    "df.loc[df[(df['Car Make']=='Tesla' )&( df['Engine Size (L)'].isna())].index,'Engine Size (L)']='Electric'\n",
    "\n",
    "# Replacing Engine Size(L) -,0 in Row index 335, for tesla as electric\n",
    "df.loc[df[df['Engine Size (L)']=='-' ].index,'Engine Size (L)']='Electric'\n",
    "df.loc[df[df['Engine Size (L)']=='0' ].index,'Engine Size (L)']='Electric'"
   ]
  },
  {
   "cell_type": "code",
   "execution_count": 10,
   "id": "24088301-d424-478f-842a-d3f71efdb114",
   "metadata": {
    "tags": []
   },
   "outputs": [
    {
     "data": {
      "text/html": [
       "<div>\n",
       "<style scoped>\n",
       "    .dataframe tbody tr th:only-of-type {\n",
       "        vertical-align: middle;\n",
       "    }\n",
       "\n",
       "    .dataframe tbody tr th {\n",
       "        vertical-align: top;\n",
       "    }\n",
       "\n",
       "    .dataframe thead th {\n",
       "        text-align: right;\n",
       "    }\n",
       "</style>\n",
       "<table border=\"1\" class=\"dataframe\">\n",
       "  <thead>\n",
       "    <tr style=\"text-align: right;\">\n",
       "      <th></th>\n",
       "      <th>Car Make</th>\n",
       "      <th>Car Model</th>\n",
       "      <th>Year</th>\n",
       "      <th>Engine Size (L)</th>\n",
       "      <th>Horsepower</th>\n",
       "      <th>Torque (lb-ft)</th>\n",
       "      <th>0-60 MPH Time (seconds)</th>\n",
       "      <th>Price (in USD)</th>\n",
       "    </tr>\n",
       "  </thead>\n",
       "  <tbody>\n",
       "    <tr>\n",
       "      <th>222</th>\n",
       "      <td>Porsche</td>\n",
       "      <td>Taycan Turbo S</td>\n",
       "      <td>2021</td>\n",
       "      <td>NaN</td>\n",
       "      <td>750</td>\n",
       "      <td>774</td>\n",
       "      <td>2.6</td>\n",
       "      <td>185,000</td>\n",
       "    </tr>\n",
       "    <tr>\n",
       "      <th>697</th>\n",
       "      <td>Lotus</td>\n",
       "      <td>Evija</td>\n",
       "      <td>2022</td>\n",
       "      <td>NaN</td>\n",
       "      <td>1972</td>\n",
       "      <td>1254</td>\n",
       "      <td>2.5</td>\n",
       "      <td>2,700,000</td>\n",
       "    </tr>\n",
       "    <tr>\n",
       "      <th>752</th>\n",
       "      <td>Porsche</td>\n",
       "      <td>Taycan</td>\n",
       "      <td>2022</td>\n",
       "      <td>NaN</td>\n",
       "      <td>469</td>\n",
       "      <td>479</td>\n",
       "      <td>3.8</td>\n",
       "      <td>79,900</td>\n",
       "    </tr>\n",
       "  </tbody>\n",
       "</table>\n",
       "</div>"
      ],
      "text/plain": [
       "    Car Make       Car Model  Year Engine Size (L) Horsepower Torque (lb-ft)  \\\n",
       "222  Porsche  Taycan Turbo S  2021             NaN        750            774   \n",
       "697    Lotus           Evija  2022             NaN       1972           1254   \n",
       "752  Porsche          Taycan  2022             NaN        469            479   \n",
       "\n",
       "    0-60 MPH Time (seconds) Price (in USD)  \n",
       "222                     2.6        185,000  \n",
       "697                     2.5      2,700,000  \n",
       "752                     3.8         79,900  "
      ]
     },
     "execution_count": 10,
     "metadata": {},
     "output_type": "execute_result"
    }
   ],
   "source": [
    "df[df['Engine Size (L)'].isna()]"
   ]
  },
  {
   "cell_type": "code",
   "execution_count": 11,
   "id": "d3cf44e8-b36f-4e6d-8fcf-0cf9ae3a4b33",
   "metadata": {
    "tags": []
   },
   "outputs": [],
   "source": [
    "# NOW THE REMAININGS ARE Porsche & Lotus, THEY ARE MAKING BOTH ELECTRIC AND ENGINE CARS"
   ]
  },
  {
   "cell_type": "code",
   "execution_count": 12,
   "id": "48d0e055-6525-4dab-9a48-214996d18d6b",
   "metadata": {
    "tags": []
   },
   "outputs": [],
   "source": [
    "#df[df['Car Model']=='Lotus']"
   ]
  },
  {
   "cell_type": "code",
   "execution_count": 13,
   "id": "ca93085f-a5c5-4872-b2a7-f48a1dcaf59f",
   "metadata": {
    "tags": []
   },
   "outputs": [],
   "source": [
    "# FOR Lotus CAR MODEL, THE HIGHER HORSEPOWER ARE ELECTRIC, SO REPLACING THE NaN WITH ELECTIC\n",
    "\n",
    "df.loc[df[(df['Car Make']=='Lotus' )&( df['Engine Size (L)'].isna())].index,'Engine Size (L)']='Electric'"
   ]
  },
  {
   "cell_type": "code",
   "execution_count": 14,
   "id": "92e3b0a8-7004-4c9b-9fed-61d88dbe903e",
   "metadata": {
    "tags": []
   },
   "outputs": [],
   "source": [
    "#df[df['Car Model']=='Porsche']"
   ]
  },
  {
   "cell_type": "code",
   "execution_count": 15,
   "id": "3122f7a8-a435-4bae-b765-f0debf20e44b",
   "metadata": {
    "tags": []
   },
   "outputs": [
    {
     "data": {
      "text/html": [
       "<div>\n",
       "<style scoped>\n",
       "    .dataframe tbody tr th:only-of-type {\n",
       "        vertical-align: middle;\n",
       "    }\n",
       "\n",
       "    .dataframe tbody tr th {\n",
       "        vertical-align: top;\n",
       "    }\n",
       "\n",
       "    .dataframe thead th {\n",
       "        text-align: right;\n",
       "    }\n",
       "</style>\n",
       "<table border=\"1\" class=\"dataframe\">\n",
       "  <thead>\n",
       "    <tr style=\"text-align: right;\">\n",
       "      <th></th>\n",
       "      <th>Car Make</th>\n",
       "      <th>Car Model</th>\n",
       "      <th>Year</th>\n",
       "      <th>Engine Size (L)</th>\n",
       "      <th>Horsepower</th>\n",
       "      <th>Torque (lb-ft)</th>\n",
       "      <th>0-60 MPH Time (seconds)</th>\n",
       "      <th>Price (in USD)</th>\n",
       "    </tr>\n",
       "  </thead>\n",
       "  <tbody>\n",
       "    <tr>\n",
       "      <th>222</th>\n",
       "      <td>Porsche</td>\n",
       "      <td>Taycan Turbo S</td>\n",
       "      <td>2021</td>\n",
       "      <td>NaN</td>\n",
       "      <td>750</td>\n",
       "      <td>774</td>\n",
       "      <td>2.6</td>\n",
       "      <td>185,000</td>\n",
       "    </tr>\n",
       "    <tr>\n",
       "      <th>752</th>\n",
       "      <td>Porsche</td>\n",
       "      <td>Taycan</td>\n",
       "      <td>2022</td>\n",
       "      <td>NaN</td>\n",
       "      <td>469</td>\n",
       "      <td>479</td>\n",
       "      <td>3.8</td>\n",
       "      <td>79,900</td>\n",
       "    </tr>\n",
       "  </tbody>\n",
       "</table>\n",
       "</div>"
      ],
      "text/plain": [
       "    Car Make       Car Model  Year Engine Size (L) Horsepower Torque (lb-ft)  \\\n",
       "222  Porsche  Taycan Turbo S  2021             NaN        750            774   \n",
       "752  Porsche          Taycan  2022             NaN        469            479   \n",
       "\n",
       "    0-60 MPH Time (seconds) Price (in USD)  \n",
       "222                     2.6        185,000  \n",
       "752                     3.8         79,900  "
      ]
     },
     "execution_count": 15,
     "metadata": {},
     "output_type": "execute_result"
    }
   ],
   "source": [
    "df[df['Engine Size (L)'].isna()]"
   ]
  },
  {
   "cell_type": "code",
   "execution_count": 16,
   "id": "4dc5352e-2baf-4433-9206-f330b6e79990",
   "metadata": {
    "tags": []
   },
   "outputs": [
    {
     "data": {
      "text/html": [
       "<div>\n",
       "<style scoped>\n",
       "    .dataframe tbody tr th:only-of-type {\n",
       "        vertical-align: middle;\n",
       "    }\n",
       "\n",
       "    .dataframe tbody tr th {\n",
       "        vertical-align: top;\n",
       "    }\n",
       "\n",
       "    .dataframe thead th {\n",
       "        text-align: right;\n",
       "    }\n",
       "</style>\n",
       "<table border=\"1\" class=\"dataframe\">\n",
       "  <thead>\n",
       "    <tr style=\"text-align: right;\">\n",
       "      <th></th>\n",
       "      <th>Car Make</th>\n",
       "      <th>Car Model</th>\n",
       "      <th>Year</th>\n",
       "      <th>Engine Size (L)</th>\n",
       "      <th>Horsepower</th>\n",
       "      <th>Torque (lb-ft)</th>\n",
       "      <th>0-60 MPH Time (seconds)</th>\n",
       "      <th>Price (in USD)</th>\n",
       "    </tr>\n",
       "  </thead>\n",
       "  <tbody>\n",
       "    <tr>\n",
       "      <th>543</th>\n",
       "      <td>Porsche</td>\n",
       "      <td>Taycan Turbo S</td>\n",
       "      <td>2022</td>\n",
       "      <td>Electric</td>\n",
       "      <td>750</td>\n",
       "      <td>774</td>\n",
       "      <td>2.6</td>\n",
       "      <td>185,000</td>\n",
       "    </tr>\n",
       "  </tbody>\n",
       "</table>\n",
       "</div>"
      ],
      "text/plain": [
       "    Car Make       Car Model  Year Engine Size (L) Horsepower Torque (lb-ft)  \\\n",
       "543  Porsche  Taycan Turbo S  2022        Electric        750            774   \n",
       "\n",
       "    0-60 MPH Time (seconds) Price (in USD)  \n",
       "543                     2.6        185,000  "
      ]
     },
     "execution_count": 16,
     "metadata": {},
     "output_type": "execute_result"
    }
   ],
   "source": [
    "# FOR ROW INDEX 222, WE CAN SEE SIMILAR ROW AT INDEX 543,HENCE DROPING 222\n",
    "\n",
    "df.drop(222,inplace=True)\n",
    "df.loc[[543]]"
   ]
  },
  {
   "cell_type": "code",
   "execution_count": 17,
   "id": "b5e2beda-0496-43d9-8e12-d0d40ae89bb5",
   "metadata": {
    "tags": []
   },
   "outputs": [
    {
     "data": {
      "text/html": [
       "<div>\n",
       "<style scoped>\n",
       "    .dataframe tbody tr th:only-of-type {\n",
       "        vertical-align: middle;\n",
       "    }\n",
       "\n",
       "    .dataframe tbody tr th {\n",
       "        vertical-align: top;\n",
       "    }\n",
       "\n",
       "    .dataframe thead th {\n",
       "        text-align: right;\n",
       "    }\n",
       "</style>\n",
       "<table border=\"1\" class=\"dataframe\">\n",
       "  <thead>\n",
       "    <tr style=\"text-align: right;\">\n",
       "      <th></th>\n",
       "      <th>Car Make</th>\n",
       "      <th>Car Model</th>\n",
       "      <th>Year</th>\n",
       "      <th>Engine Size (L)</th>\n",
       "      <th>Horsepower</th>\n",
       "      <th>Torque (lb-ft)</th>\n",
       "      <th>0-60 MPH Time (seconds)</th>\n",
       "      <th>Price (in USD)</th>\n",
       "    </tr>\n",
       "  </thead>\n",
       "  <tbody>\n",
       "    <tr>\n",
       "      <th>843</th>\n",
       "      <td>Porsche</td>\n",
       "      <td>Taycan</td>\n",
       "      <td>2022</td>\n",
       "      <td>2.0 (Electric)</td>\n",
       "      <td>469</td>\n",
       "      <td>263</td>\n",
       "      <td>3.8</td>\n",
       "      <td>81,250</td>\n",
       "    </tr>\n",
       "  </tbody>\n",
       "</table>\n",
       "</div>"
      ],
      "text/plain": [
       "    Car Make Car Model  Year Engine Size (L) Horsepower Torque (lb-ft)  \\\n",
       "843  Porsche    Taycan  2022  2.0 (Electric)        469            263   \n",
       "\n",
       "    0-60 MPH Time (seconds) Price (in USD)  \n",
       "843                     3.8         81,250  "
      ]
     },
     "execution_count": 17,
     "metadata": {},
     "output_type": "execute_result"
    }
   ],
   "source": [
    "# FOR ROW INDEX 752, WE CAN SEE MOST MATCHING VALUE ROW AT 843, HENCE ASSINING THE NaN TO 2.0 (Electric)\n",
    "\n",
    "df.loc[df[(df['Car Make']=='Porsche' )&( df['Engine Size (L)'].isna())].index,'Engine Size (L)']='2.0 (Electric)'\n",
    "df.loc[[843]]"
   ]
  },
  {
   "cell_type": "code",
   "execution_count": 18,
   "id": "cb9dfeb5-d432-43b9-a8f9-e74e08cdb3ad",
   "metadata": {
    "tags": []
   },
   "outputs": [
    {
     "name": "stdout",
     "output_type": "stream",
     "text": [
      "<class 'pandas.core.frame.DataFrame'>\n",
      "Int64Index: 718 entries, 0 to 1006\n",
      "Data columns (total 8 columns):\n",
      " #   Column                   Non-Null Count  Dtype \n",
      "---  ------                   --------------  ----- \n",
      " 0   Car Make                 718 non-null    object\n",
      " 1   Car Model                718 non-null    object\n",
      " 2   Year                     718 non-null    int64 \n",
      " 3   Engine Size (L)          718 non-null    object\n",
      " 4   Horsepower               718 non-null    object\n",
      " 5   Torque (lb-ft)           718 non-null    object\n",
      " 6   0-60 MPH Time (seconds)  718 non-null    object\n",
      " 7   Price (in USD)           718 non-null    object\n",
      "dtypes: int64(1), object(7)\n",
      "memory usage: 66.6+ KB\n"
     ]
    }
   ],
   "source": [
    "# ALL NULL VALUES ARE HANDLED\n",
    "\n",
    "df.to_csv('filledData.csv')\n",
    "\n",
    "df.info()"
   ]
  },
  {
   "cell_type": "markdown",
   "id": "46d2d6f5-b3c5-499b-8759-95deb9cd5be5",
   "metadata": {},
   "source": [
    "3.  HANDLING WRONG DATA"
   ]
  },
  {
   "cell_type": "code",
   "execution_count": 19,
   "id": "7fb0556e-d6aa-4349-bf41-e673d582231d",
   "metadata": {
    "tags": []
   },
   "outputs": [],
   "source": [
    "# Removing comma to change strings to numeric dtypes for future use\n",
    "\n",
    "df=df.replace(',', '',regex=True)\n",
    "\n",
    "# FOR ROASTER CAR MODEL WE CAN SEE + SYMBOL APPENDED IN HORSEPOWER & TORQUE(removing the +, 1000+ means more than 1000, cutting off to 1000)\n",
    "\n",
    "df['Horsepower']=df['Horsepower'].replace('\\+', '',regex=True)\n",
    "df['Torque (lb-ft)']=df['Torque (lb-ft)'].replace('\\+', '',regex=True)\n",
    "\n",
    "# IN '0-60 MPH Time (seconds)' WE CAN SEE (< 1.9) VALUE, CHANGING IT TO 1.85(MINIMIUM VALUE AS MENTIONED IN DESC)\n",
    "\n",
    "df[df['0-60 MPH Time (seconds)']=='< 1.9']['0-60 MPH Time (seconds)']\n",
    "df.loc[364,'0-60 MPH Time (seconds)']=1.85"
   ]
  },
  {
   "cell_type": "code",
   "execution_count": 20,
   "id": "3cc3085f-d57c-4c39-99ac-e323d81cb761",
   "metadata": {
    "tags": []
   },
   "outputs": [
    {
     "name": "stdout",
     "output_type": "stream",
     "text": [
      "<class 'pandas.core.frame.DataFrame'>\n",
      "Int64Index: 718 entries, 0 to 1006\n",
      "Data columns (total 8 columns):\n",
      " #   Column                   Non-Null Count  Dtype  \n",
      "---  ------                   --------------  -----  \n",
      " 0   Car Make                 718 non-null    string \n",
      " 1   Car Model                718 non-null    string \n",
      " 2   Year                     718 non-null    int64  \n",
      " 3   Engine Size (L)          718 non-null    object \n",
      " 4   Horsepower               718 non-null    int32  \n",
      " 5   Torque (lb-ft)           718 non-null    int64  \n",
      " 6   0-60 MPH Time (seconds)  718 non-null    float64\n",
      " 7   Price (in USD)           718 non-null    int64  \n",
      "dtypes: float64(1), int32(1), int64(3), object(1), string(2)\n",
      "memory usage: 63.8+ KB\n"
     ]
    }
   ],
   "source": [
    "#CHANGE THE DATATYPE OF COLUMNS\n",
    "\n",
    "df['Car Make']=df['Car Make'].astype('string')\n",
    "df['Car Model']=df['Car Model'].astype('string')\n",
    "df['Horsepower']=df['Horsepower'].astype('int32')\n",
    "df['Torque (lb-ft)']=pd.to_numeric(df['Torque (lb-ft)'])\n",
    "df['0-60 MPH Time (seconds)']=pd.to_numeric(df['0-60 MPH Time (seconds)'])\n",
    "df['Price (in USD)']=pd.to_numeric(df['Price (in USD)'])\n",
    "df.info()"
   ]
  },
  {
   "cell_type": "code",
   "execution_count": 21,
   "id": "7e3d44bd-a608-4976-9ef5-39cad13caebd",
   "metadata": {
    "tags": []
   },
   "outputs": [
    {
     "data": {
      "text/html": [
       "<div>\n",
       "<style scoped>\n",
       "    .dataframe tbody tr th:only-of-type {\n",
       "        vertical-align: middle;\n",
       "    }\n",
       "\n",
       "    .dataframe tbody tr th {\n",
       "        vertical-align: top;\n",
       "    }\n",
       "\n",
       "    .dataframe thead th {\n",
       "        text-align: right;\n",
       "    }\n",
       "</style>\n",
       "<table border=\"1\" class=\"dataframe\">\n",
       "  <thead>\n",
       "    <tr style=\"text-align: right;\">\n",
       "      <th></th>\n",
       "      <th>Year</th>\n",
       "      <th>Horsepower</th>\n",
       "      <th>Torque (lb-ft)</th>\n",
       "      <th>0-60 MPH Time (seconds)</th>\n",
       "      <th>Price (in USD)</th>\n",
       "    </tr>\n",
       "  </thead>\n",
       "  <tbody>\n",
       "    <tr>\n",
       "      <th>count</th>\n",
       "      <td>718.000000</td>\n",
       "      <td>718.00000</td>\n",
       "      <td>718.000000</td>\n",
       "      <td>718.000000</td>\n",
       "      <td>7.180000e+02</td>\n",
       "    </tr>\n",
       "    <tr>\n",
       "      <th>mean</th>\n",
       "      <td>2021.160167</td>\n",
       "      <td>666.50000</td>\n",
       "      <td>571.445682</td>\n",
       "      <td>3.554109</td>\n",
       "      <td>3.903405e+05</td>\n",
       "    </tr>\n",
       "    <tr>\n",
       "      <th>std</th>\n",
       "      <td>2.331215</td>\n",
       "      <td>682.22288</td>\n",
       "      <td>506.340990</td>\n",
       "      <td>0.806198</td>\n",
       "      <td>7.756642e+05</td>\n",
       "    </tr>\n",
       "    <tr>\n",
       "      <th>min</th>\n",
       "      <td>1965.000000</td>\n",
       "      <td>181.00000</td>\n",
       "      <td>0.000000</td>\n",
       "      <td>1.800000</td>\n",
       "      <td>2.500000e+04</td>\n",
       "    </tr>\n",
       "    <tr>\n",
       "      <th>25%</th>\n",
       "      <td>2021.000000</td>\n",
       "      <td>454.00000</td>\n",
       "      <td>398.500000</td>\n",
       "      <td>3.000000</td>\n",
       "      <td>7.010000e+04</td>\n",
       "    </tr>\n",
       "    <tr>\n",
       "      <th>50%</th>\n",
       "      <td>2021.000000</td>\n",
       "      <td>591.00000</td>\n",
       "      <td>505.000000</td>\n",
       "      <td>3.500000</td>\n",
       "      <td>1.336000e+05</td>\n",
       "    </tr>\n",
       "    <tr>\n",
       "      <th>75%</th>\n",
       "      <td>2022.000000</td>\n",
       "      <td>710.00000</td>\n",
       "      <td>627.000000</td>\n",
       "      <td>4.000000</td>\n",
       "      <td>2.250000e+05</td>\n",
       "    </tr>\n",
       "    <tr>\n",
       "      <th>max</th>\n",
       "      <td>2023.000000</td>\n",
       "      <td>10000.00000</td>\n",
       "      <td>10000.000000</td>\n",
       "      <td>6.500000</td>\n",
       "      <td>5.200000e+06</td>\n",
       "    </tr>\n",
       "  </tbody>\n",
       "</table>\n",
       "</div>"
      ],
      "text/plain": [
       "              Year   Horsepower  Torque (lb-ft)  0-60 MPH Time (seconds)  \\\n",
       "count   718.000000    718.00000      718.000000               718.000000   \n",
       "mean   2021.160167    666.50000      571.445682                 3.554109   \n",
       "std       2.331215    682.22288      506.340990                 0.806198   \n",
       "min    1965.000000    181.00000        0.000000                 1.800000   \n",
       "25%    2021.000000    454.00000      398.500000                 3.000000   \n",
       "50%    2021.000000    591.00000      505.000000                 3.500000   \n",
       "75%    2022.000000    710.00000      627.000000                 4.000000   \n",
       "max    2023.000000  10000.00000    10000.000000                 6.500000   \n",
       "\n",
       "       Price (in USD)  \n",
       "count    7.180000e+02  \n",
       "mean     3.903405e+05  \n",
       "std      7.756642e+05  \n",
       "min      2.500000e+04  \n",
       "25%      7.010000e+04  \n",
       "50%      1.336000e+05  \n",
       "75%      2.250000e+05  \n",
       "max      5.200000e+06  "
      ]
     },
     "execution_count": 21,
     "metadata": {},
     "output_type": "execute_result"
    }
   ],
   "source": [
    "df.describe()"
   ]
  },
  {
   "cell_type": "code",
   "execution_count": 22,
   "id": "830eb83d-0950-4e72-ad51-59c3a20a2c48",
   "metadata": {
    "tags": []
   },
   "outputs": [
    {
     "data": {
      "text/html": [
       "<div>\n",
       "<style scoped>\n",
       "    .dataframe tbody tr th:only-of-type {\n",
       "        vertical-align: middle;\n",
       "    }\n",
       "\n",
       "    .dataframe tbody tr th {\n",
       "        vertical-align: top;\n",
       "    }\n",
       "\n",
       "    .dataframe thead th {\n",
       "        text-align: right;\n",
       "    }\n",
       "</style>\n",
       "<table border=\"1\" class=\"dataframe\">\n",
       "  <thead>\n",
       "    <tr style=\"text-align: right;\">\n",
       "      <th></th>\n",
       "      <th>Year</th>\n",
       "      <th>Horsepower</th>\n",
       "      <th>Torque (lb-ft)</th>\n",
       "      <th>0-60 MPH Time (seconds)</th>\n",
       "      <th>Price (in USD)</th>\n",
       "    </tr>\n",
       "  </thead>\n",
       "  <tbody>\n",
       "    <tr>\n",
       "      <th>count</th>\n",
       "      <td>718.000000</td>\n",
       "      <td>718.00000</td>\n",
       "      <td>718.000000</td>\n",
       "      <td>718.000000</td>\n",
       "      <td>7.180000e+02</td>\n",
       "    </tr>\n",
       "    <tr>\n",
       "      <th>mean</th>\n",
       "      <td>2021.160167</td>\n",
       "      <td>666.50000</td>\n",
       "      <td>550.324513</td>\n",
       "      <td>3.554109</td>\n",
       "      <td>3.903405e+05</td>\n",
       "    </tr>\n",
       "    <tr>\n",
       "      <th>std</th>\n",
       "      <td>2.331215</td>\n",
       "      <td>682.22288</td>\n",
       "      <td>258.903102</td>\n",
       "      <td>0.806198</td>\n",
       "      <td>7.756642e+05</td>\n",
       "    </tr>\n",
       "    <tr>\n",
       "      <th>min</th>\n",
       "      <td>1965.000000</td>\n",
       "      <td>181.00000</td>\n",
       "      <td>151.000000</td>\n",
       "      <td>1.800000</td>\n",
       "      <td>2.500000e+04</td>\n",
       "    </tr>\n",
       "    <tr>\n",
       "      <th>25%</th>\n",
       "      <td>2021.000000</td>\n",
       "      <td>454.00000</td>\n",
       "      <td>401.500000</td>\n",
       "      <td>3.000000</td>\n",
       "      <td>7.010000e+04</td>\n",
       "    </tr>\n",
       "    <tr>\n",
       "      <th>50%</th>\n",
       "      <td>2021.000000</td>\n",
       "      <td>591.00000</td>\n",
       "      <td>506.000000</td>\n",
       "      <td>3.500000</td>\n",
       "      <td>1.336000e+05</td>\n",
       "    </tr>\n",
       "    <tr>\n",
       "      <th>75%</th>\n",
       "      <td>2022.000000</td>\n",
       "      <td>710.00000</td>\n",
       "      <td>627.000000</td>\n",
       "      <td>4.000000</td>\n",
       "      <td>2.250000e+05</td>\n",
       "    </tr>\n",
       "    <tr>\n",
       "      <th>max</th>\n",
       "      <td>2023.000000</td>\n",
       "      <td>10000.00000</td>\n",
       "      <td>1732.000000</td>\n",
       "      <td>6.500000</td>\n",
       "      <td>5.200000e+06</td>\n",
       "    </tr>\n",
       "  </tbody>\n",
       "</table>\n",
       "</div>"
      ],
      "text/plain": [
       "              Year   Horsepower  Torque (lb-ft)  0-60 MPH Time (seconds)  \\\n",
       "count   718.000000    718.00000      718.000000               718.000000   \n",
       "mean   2021.160167    666.50000      550.324513                 3.554109   \n",
       "std       2.331215    682.22288      258.903102                 0.806198   \n",
       "min    1965.000000    181.00000      151.000000                 1.800000   \n",
       "25%    2021.000000    454.00000      401.500000                 3.000000   \n",
       "50%    2021.000000    591.00000      506.000000                 3.500000   \n",
       "75%    2022.000000    710.00000      627.000000                 4.000000   \n",
       "max    2023.000000  10000.00000     1732.000000                 6.500000   \n",
       "\n",
       "       Price (in USD)  \n",
       "count    7.180000e+02  \n",
       "mean     3.903405e+05  \n",
       "std      7.756642e+05  \n",
       "min      2.500000e+04  \n",
       "25%      7.010000e+04  \n",
       "50%      1.336000e+05  \n",
       "75%      2.250000e+05  \n",
       "max      5.200000e+06  "
      ]
     },
     "execution_count": 22,
     "metadata": {},
     "output_type": "execute_result"
    }
   ],
   "source": [
    "# FOR ROASTER CAR MODEL, THE OUTLYING TORQUE VALUES ARE 0, 10,000 AND 7376 EACH PER ROW, BUT ALL OTHER ROWS HAVING 737, \n",
    "# REPLACING THOSE 3 FILEDS, AS WE ARE NOT SEEING ANY DIFFERENCE IN OTHER COLUMN, SO IT MUST BE A WRONG DATA\n",
    "df.loc[df[df['Torque (lb-ft)']==7376]['Torque (lb-ft)'].index,'Torque (lb-ft)']=737\n",
    "df.loc[df[df['Torque (lb-ft)']==10000]['Torque (lb-ft)'].index,'Torque (lb-ft)']=737\n",
    "df.loc[df[df['Torque (lb-ft)']==0]['Torque (lb-ft)'].index,'Torque (lb-ft)']=737\n",
    "\n",
    "df.describe()"
   ]
  },
  {
   "cell_type": "code",
   "execution_count": 23,
   "id": "417ffd74-dc32-4767-b5a0-f11fa14feb5b",
   "metadata": {
    "tags": []
   },
   "outputs": [],
   "source": [
    "#df[df['Car Model']=='Tesla'][ df['Year']==2022]\n",
    "df.loc[df[df['Horsepower']==10000]['Horsepower'].index,'Horsepower']=1000"
   ]
  },
  {
   "cell_type": "code",
   "execution_count": 24,
   "id": "15ceae5d-feca-4e7c-890c-70ad562e59e9",
   "metadata": {
    "tags": []
   },
   "outputs": [],
   "source": [
    "#df[df['Car Model']=='Tesla'][ df['Year']==2022]"
   ]
  },
  {
   "cell_type": "code",
   "execution_count": 25,
   "id": "06ce2a13-80ea-489a-a91f-c9dcc26ce498",
   "metadata": {
    "tags": []
   },
   "outputs": [],
   "source": [
    "df.loc[df[df['Engine Size (L)']=='Electric Motor' ].index,'Engine Size (L)']='Electric'"
   ]
  },
  {
   "cell_type": "code",
   "execution_count": 26,
   "id": "c848fb25-aa73-47a7-a292-a0758bbae9c1",
   "metadata": {
    "tags": []
   },
   "outputs": [
    {
     "data": {
      "text/html": [
       "<div>\n",
       "<style scoped>\n",
       "    .dataframe tbody tr th:only-of-type {\n",
       "        vertical-align: middle;\n",
       "    }\n",
       "\n",
       "    .dataframe tbody tr th {\n",
       "        vertical-align: top;\n",
       "    }\n",
       "\n",
       "    .dataframe thead th {\n",
       "        text-align: right;\n",
       "    }\n",
       "</style>\n",
       "<table border=\"1\" class=\"dataframe\">\n",
       "  <thead>\n",
       "    <tr style=\"text-align: right;\">\n",
       "      <th></th>\n",
       "      <th>Year</th>\n",
       "      <th>Horsepower</th>\n",
       "      <th>Torque (lb-ft)</th>\n",
       "      <th>0-60 MPH Time (seconds)</th>\n",
       "      <th>Price (in USD)</th>\n",
       "    </tr>\n",
       "  </thead>\n",
       "  <tbody>\n",
       "    <tr>\n",
       "      <th>count</th>\n",
       "      <td>718.000000</td>\n",
       "      <td>718.000000</td>\n",
       "      <td>718.000000</td>\n",
       "      <td>718.000000</td>\n",
       "      <td>7.180000e+02</td>\n",
       "    </tr>\n",
       "    <tr>\n",
       "      <th>mean</th>\n",
       "      <td>2021.160167</td>\n",
       "      <td>628.895543</td>\n",
       "      <td>550.324513</td>\n",
       "      <td>3.554109</td>\n",
       "      <td>3.903405e+05</td>\n",
       "    </tr>\n",
       "    <tr>\n",
       "      <th>std</th>\n",
       "      <td>2.331215</td>\n",
       "      <td>316.200414</td>\n",
       "      <td>258.903102</td>\n",
       "      <td>0.806198</td>\n",
       "      <td>7.756642e+05</td>\n",
       "    </tr>\n",
       "    <tr>\n",
       "      <th>min</th>\n",
       "      <td>1965.000000</td>\n",
       "      <td>181.000000</td>\n",
       "      <td>151.000000</td>\n",
       "      <td>1.800000</td>\n",
       "      <td>2.500000e+04</td>\n",
       "    </tr>\n",
       "    <tr>\n",
       "      <th>25%</th>\n",
       "      <td>2021.000000</td>\n",
       "      <td>454.000000</td>\n",
       "      <td>401.500000</td>\n",
       "      <td>3.000000</td>\n",
       "      <td>7.010000e+04</td>\n",
       "    </tr>\n",
       "    <tr>\n",
       "      <th>50%</th>\n",
       "      <td>2021.000000</td>\n",
       "      <td>591.000000</td>\n",
       "      <td>506.000000</td>\n",
       "      <td>3.500000</td>\n",
       "      <td>1.336000e+05</td>\n",
       "    </tr>\n",
       "    <tr>\n",
       "      <th>75%</th>\n",
       "      <td>2022.000000</td>\n",
       "      <td>710.000000</td>\n",
       "      <td>627.000000</td>\n",
       "      <td>4.000000</td>\n",
       "      <td>2.250000e+05</td>\n",
       "    </tr>\n",
       "    <tr>\n",
       "      <th>max</th>\n",
       "      <td>2023.000000</td>\n",
       "      <td>2000.000000</td>\n",
       "      <td>1732.000000</td>\n",
       "      <td>6.500000</td>\n",
       "      <td>5.200000e+06</td>\n",
       "    </tr>\n",
       "  </tbody>\n",
       "</table>\n",
       "</div>"
      ],
      "text/plain": [
       "              Year   Horsepower  Torque (lb-ft)  0-60 MPH Time (seconds)  \\\n",
       "count   718.000000   718.000000      718.000000               718.000000   \n",
       "mean   2021.160167   628.895543      550.324513                 3.554109   \n",
       "std       2.331215   316.200414      258.903102                 0.806198   \n",
       "min    1965.000000   181.000000      151.000000                 1.800000   \n",
       "25%    2021.000000   454.000000      401.500000                 3.000000   \n",
       "50%    2021.000000   591.000000      506.000000                 3.500000   \n",
       "75%    2022.000000   710.000000      627.000000                 4.000000   \n",
       "max    2023.000000  2000.000000     1732.000000                 6.500000   \n",
       "\n",
       "       Price (in USD)  \n",
       "count    7.180000e+02  \n",
       "mean     3.903405e+05  \n",
       "std      7.756642e+05  \n",
       "min      2.500000e+04  \n",
       "25%      7.010000e+04  \n",
       "50%      1.336000e+05  \n",
       "75%      2.250000e+05  \n",
       "max      5.200000e+06  "
      ]
     },
     "execution_count": 26,
     "metadata": {},
     "output_type": "execute_result"
    }
   ],
   "source": [
    "df.describe()"
   ]
  },
  {
   "cell_type": "code",
   "execution_count": 27,
   "id": "1bbd345b-6959-4a13-9c59-03906a0af1fe",
   "metadata": {
    "tags": []
   },
   "outputs": [],
   "source": [
    "# THE DATA CLEANING COMPLETED\n",
    "df.to_csv('CleanedDataSet.csv',index=False)"
   ]
  },
  {
   "cell_type": "markdown",
   "id": "de0e372d-8431-4678-973a-d8e26df6e57d",
   "metadata": {
    "tags": []
   },
   "source": [
    "4.  ANALYSING"
   ]
  },
  {
   "cell_type": "code",
   "execution_count": 28,
   "id": "f200da6b-0ac3-4bb3-9482-75a802814012",
   "metadata": {},
   "outputs": [
    {
     "data": {
      "text/plain": [
       "Index(['Car Make', 'Car Model', 'Year', 'Engine Size (L)', 'Horsepower',\n",
       "       'Torque (lb-ft)', '0-60 MPH Time (seconds)', 'Price (in USD)'],\n",
       "      dtype='object')"
      ]
     },
     "execution_count": 28,
     "metadata": {},
     "output_type": "execute_result"
    }
   ],
   "source": [
    "df.columns"
   ]
  },
  {
   "cell_type": "code",
   "execution_count": null,
   "id": "0efa564a-a9ac-4255-83d1-e3ead8797f41",
   "metadata": {},
   "outputs": [],
   "source": []
  }
 ],
 "metadata": {
  "kernelspec": {
   "display_name": "Python 3 (ipykernel)",
   "language": "python",
   "name": "python3"
  },
  "language_info": {
   "codemirror_mode": {
    "name": "ipython",
    "version": 3
   },
   "file_extension": ".py",
   "mimetype": "text/x-python",
   "name": "python",
   "nbconvert_exporter": "python",
   "pygments_lexer": "ipython3",
   "version": "3.11.0"
  }
 },
 "nbformat": 4,
 "nbformat_minor": 5
}
